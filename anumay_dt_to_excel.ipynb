{
 "cells": [
  {
   "cell_type": "code",
   "execution_count": 21,
   "id": "apparent-flight",
   "metadata": {},
   "outputs": [],
   "source": [
    "import glob\n",
    "import pandas as pd\n",
    "import os\n"
   ]
  },
  {
   "cell_type": "markdown",
   "id": "split-young",
   "metadata": {},
   "source": [
    "## Convert .dt to .dat"
   ]
  },
  {
   "cell_type": "code",
   "execution_count": 18,
   "id": "binary-houston",
   "metadata": {},
   "outputs": [],
   "source": [
    "folder = \"C:\\\\Users\\\\amanr\\\\Downloads\\\\anumay_dt\"\n",
    "for filename in os.listdir(folder):\n",
    "    infilename = os.path.join(folder,filename)\n",
    "    if not os.path.isfile(infilename): continue\n",
    "    oldbase = os.path.splitext(filename)\n",
    "    newname = infilename.replace('.dt', '.dat')\n",
    "    output = os.rename(infilename, newname)"
   ]
  },
  {
   "cell_type": "markdown",
   "id": "encouraging-baker",
   "metadata": {},
   "source": [
    "## Parsing .dt to pandas df and then converting to excel"
   ]
  },
  {
   "cell_type": "code",
   "execution_count": null,
   "id": "rational-beach",
   "metadata": {},
   "outputs": [],
   "source": [
    "os.chdir(\"C:\\\\Users\\\\amanr\\\\Downloads\\\\anumay_dt\")\n",
    "for file in glob.glob(\"*.dat\"):\n",
    "#     dtcontent = [i.strip().split() for i in open(file).readlines()]\n",
    "    \n",
    "#     df = pd.read_csv(StringIO(file), sep='|')\n",
    "    df = pd.read_csv(file, sep='|')\n",
    "    file1 = file.replace('dat','xlsx')\n",
    "    df.to_excel(file1)"
   ]
  }
 ],
 "metadata": {
  "kernelspec": {
   "display_name": "Python 3",
   "language": "python",
   "name": "python3"
  },
  "language_info": {
   "codemirror_mode": {
    "name": "ipython",
    "version": 3
   },
   "file_extension": ".py",
   "mimetype": "text/x-python",
   "name": "python",
   "nbconvert_exporter": "python",
   "pygments_lexer": "ipython3",
   "version": "3.7.3"
  }
 },
 "nbformat": 4,
 "nbformat_minor": 5
}
